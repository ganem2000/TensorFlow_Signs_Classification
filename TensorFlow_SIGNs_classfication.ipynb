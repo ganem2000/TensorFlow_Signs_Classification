{
  "cells": [
    {
      "cell_type": "markdown",
      "metadata": {
        "id": "view-in-github",
        "colab_type": "text"
      },
      "source": [
        "<a href=\"https://colab.research.google.com/github/ganem2000/TensorFlow_Signs_Classification/blob/main/TensorFlow_SIGNs_classfication.ipynb\" target=\"_parent\"><img src=\"https://colab.research.google.com/assets/colab-badge.svg\" alt=\"Open In Colab\"/></a>"
      ]
    },
    {
      "cell_type": "markdown",
      "metadata": {
        "id": "PSa_cJc70dE2"
      },
      "source": [
        "## 1 - Import packages\n"
      ]
    },
    {
      "cell_type": "markdown",
      "source": [
        "**Exercise**: Please mount your Google drive, and set up your working folder here."
      ],
      "metadata": {
        "id": "7LOcocGU7uXT"
      }
    },
    {
      "cell_type": "code",
      "source": [
        "from google.colab import drive\n",
        "drive.mount('/content/drive')"
      ],
      "metadata": {
        "id": "eigGbuWu0dnn",
        "colab": {
          "base_uri": "https://localhost:8080/"
        },
        "outputId": "67a43d38-a113-46f9-9942-a70eae0f4035"
      },
      "execution_count": null,
      "outputs": [
        {
          "output_type": "stream",
          "name": "stdout",
          "text": [
            "Mounted at /content/drive\n"
          ]
        }
      ]
    },
    {
      "cell_type": "code",
      "source": [
        "import os\n",
        "# start your code here\n",
        "os.chdir(\"/content/drive/MyDrive/Deep Learning Assignments/Homework6\") # change your working folder here\n",
        "\n",
        "# end your code here"
      ],
      "metadata": {
        "id": "YFoWWXsX0fwx"
      },
      "execution_count": null,
      "outputs": []
    },
    {
      "cell_type": "code",
      "execution_count": null,
      "metadata": {
        "id": "rhZ0RUw8T111",
        "jupyter": {
          "outputs_hidden": true
        }
      },
      "outputs": [],
      "source": [
        "import math\n",
        "import numpy as np\n",
        "import h5py\n",
        "import matplotlib.pyplot as plt\n",
        "import tensorflow as tf\n",
        "from tensorflow.python.framework import ops\n",
        "from tf_utils import load_dataset, random_mini_batches, convert_to_one_hot, predict\n",
        "\n",
        "%matplotlib inline\n",
        "np.random.seed(123)\n",
        "tf.random.set_seed(123)"
      ]
    },
    {
      "cell_type": "markdown",
      "metadata": {
        "id": "LW8S6sVzT12h"
      },
      "source": [
        "\n",
        "\n",
        "# 2 - Problem statement: SIGNS Dataset\n",
        "\n",
        "One afternoon, with some friends we decided to teach our computers to decipher sign language. We spent a few hours taking pictures in front of a white wall and came up with the following dataset. It's now your job to build an algorithm that would facilitate communications from a speech-impaired person to someone who doesn't understand sign language.\n",
        "\n",
        "- **Training set**: 1080 pictures (64 by 64 pixels) of signs representing numbers from 0 to 5 (180 pictures per number).\n",
        "- **Test set**: 120 pictures (64 by 64 pixels) of signs representing numbers from 0 to 5 (20 pictures per number).\n",
        "\n",
        "Note that this is a subset of the SIGNS dataset. The complete dataset contains many more signs.\n",
        "\n",
        "Here are examples for each number, and how an explanation of how we represent the labels. These are the original pictures, before we lowered the image resolutoion to 64 by 64 pixels.\n",
        "<figure>\n",
        "<center>\n",
        "<img src='https://drive.google.com/uc?id=1Nuox7mBJMGQt_QXZxmYGkXFEO5mjPf-B' />\n",
        "<figcaption>Image Caption</figcaption></center>\n",
        "</figure>\n",
        "\n",
        "\n",
        "Run the following code to load the dataset."
      ]
    },
    {
      "cell_type": "code",
      "execution_count": null,
      "metadata": {
        "id": "wCgjv84yT12i",
        "jupyter": {
          "outputs_hidden": true
        }
      },
      "outputs": [],
      "source": [
        "# Loading the dataset\n",
        "X_train_orig, Y_train_orig, X_test_orig, Y_test_orig, classes = load_dataset()"
      ]
    },
    {
      "cell_type": "markdown",
      "metadata": {
        "id": "JYimgnMbT12k"
      },
      "source": [
        "Change the index below and run the cell to visualize some examples in the dataset."
      ]
    },
    {
      "cell_type": "code",
      "execution_count": null,
      "metadata": {
        "id": "wG0QwVtJT12k",
        "jupyter": {
          "outputs_hidden": true
        },
        "colab": {
          "base_uri": "https://localhost:8080/",
          "height": 286
        },
        "outputId": "c16e64dc-cd3f-4e5d-e84d-e043e7b0e460"
      },
      "outputs": [
        {
          "output_type": "stream",
          "name": "stdout",
          "text": [
            "y = 1\n"
          ]
        },
        {
          "output_type": "display_data",
          "data": {
            "image/png": "[encoded data removed]",
            "text/plain": [
              "<Figure size 432x288 with 1 Axes>"
            ]
          },
          "metadata": {
            "needs_background": "light"
          }
        }
      ],
      "source": [
        "# Example of a picture\n",
        "index = 7\n",
        "plt.imshow(X_train_orig[index])\n",
        "print (\"y = \" + str(np.squeeze(Y_train_orig[:, index])))"
      ]
    },
    {
      "cell_type": "markdown",
      "source": [
        "# 3. Using One Hot encodings\n",
        "\n",
        "Many times in deep learning you will have a y vector with numbers ranging from 0 to C-1, where C is the number of classes. If C is for example 4, then you might have the following y vector which you will need to convert as follows:\n",
        "<figure>\n",
        "<center>\n",
        "<img src='https://drive.google.com/uc?id=1P02l9Fu2flQp0gsRl2bTAm0bsZ2cIMWI' />\n",
        "<figcaption>\n",
        "</figure>\n",
        "\n",
        "\n",
        "\n",
        "This is called a \"one hot\" encoding, because in the converted representation exactly one element of each column is \"hot\" (meaning set to 1). In tensorflow, we can tranform the labels of samples to one hot vectors by calling\n",
        "\n",
        "```\n",
        "tf.keras.utils.to_categorical(y)\n",
        "```\n",
        "Please transform the lables (or the output of the dataset) to one hot vectors.\n",
        " "
      ],
      "metadata": {
        "id": "jFRGPKSm812f"
      }
    },
    {
      "cell_type": "markdown",
      "metadata": {
        "id": "2WP4-S2CT12m"
      },
      "source": [
        "As usual you flatten the image dataset, then normalize it by dividing by 255. On top of that, you will convert each label to a one-hot vector . Run the cell below to do so."
      ]
    },
    {
      "cell_type": "code",
      "execution_count": null,
      "metadata": {
        "id": "tn3gF5xLT12m",
        "jupyter": {
          "outputs_hidden": true
        },
        "colab": {
          "base_uri": "https://localhost:8080/"
        },
        "outputId": "8869be12-e273-4189-f9f6-fb233ab3266c"
      },
      "outputs": [
        {
          "output_type": "stream",
          "name": "stdout",
          "text": [
            "number of training examples = 12288\n",
            "number of test examples = 12288\n",
            "X_train shape: (1080, 12288)\n",
            "Y_train shape: (1080, 6)\n",
            "X_test shape: (120, 12288)\n",
            "Y_test shape: (120, 6)\n"
          ]
        }
      ],
      "source": [
        "# Flatten the training and test images\n",
        "X_train_flatten = X_train_orig.reshape(X_train_orig.shape[0], -1)\n",
        "X_test_flatten = X_test_orig.reshape(X_test_orig.shape[0], -1)\n",
        "# Normalize image vectors\n",
        "X_train = X_train_flatten/255.\n",
        "X_test = X_test_flatten/255.\n",
        "# Flatten the training and test labels\n",
        "Y_train_flatten=Y_train_orig.flatten()\n",
        "Y_test_flatten=Y_test_orig.flatten()\n",
        "\n",
        "# Convert training labels (Y_train_flatten) and test labels (Y_test_flatten) to one hot matrices\\\n",
        "### START CODE HERE ###'\n",
        "Y_train = tf.keras.utils.to_categorical(Y_train_flatten)\n",
        "Y_test = tf.keras.utils.to_categorical(Y_test_flatten)\n",
        "### END CODE HERE ###\n",
        "\n",
        "print (\"number of training examples = \" + str(X_train.shape[1]))\n",
        "print (\"number of test examples = \" + str(X_test.shape[1]))\n",
        "print (\"X_train shape: \" + str(X_train.shape))\n",
        "print (\"Y_train shape: \" + str(Y_train.shape))\n",
        "print (\"X_test shape: \" + str(X_test.shape))\n",
        "print (\"Y_test shape: \" + str(Y_test.shape))"
      ]
    },
    {
      "cell_type": "markdown",
      "metadata": {
        "id": "iN_KPZ0FT12o"
      },
      "source": [
        "**Note** that 12288 comes from $64 \\times 64 \\times 3$. Each image is square, 64 by 64 pixels, and 3 is for the RGB colors. Please make sure all these shapes make sense to you before continuing."
      ]
    },
    {
      "cell_type": "markdown",
      "metadata": {
        "id": "_GQMSJTtT12p"
      },
      "source": [
        "#4.Building your model\n",
        "\n",
        "**Your goal** is to build an model capable of recognizing a sign with high accuracy. To do so, you are going to build a tensorflow model that is almost the same as one you have previously built for cat recognition and multi-class classification problems. If you already forget previous homeworks, please go back to review them to get some clues. \n",
        "\n",
        "**Previous related homeworks** \n",
        "\n",
        "\"Planar_data_tensorflow.ipynb\" in Homework 2\n",
        "\n",
        "\"deepNN_tensorflow.ipynb\" in Homework 3\n",
        "\n",
        "\"regularized_deepNN_tensorflow.ipynb\" in Homework 4\n",
        "\n",
        "\"batch-size-test-student-version.ipynb\" In Homework 5"
      ]
    },
    {
      "cell_type": "code",
      "source": [
        "### START CODE HERE ###\n",
        "model=tf.keras.Sequential([\n",
        "    #Input layer                      \n",
        "    tf.keras.layers.Input(shape=(12288)), # Set how many elements are there in every training image?\n",
        "\n",
        "    #Start adding hidden layers  \n",
        "    tf.keras.layers.Dense(20), # Please set your neuron numbers, activation function and so on. \n",
        "\n",
        "    #please feel free to add more hidden layers here. \n",
        "    tf.keras.layers.Dense(50), \n",
        "\n",
        "    # End adding hidden layers \n",
        "\n",
        "    #output layer                   \n",
        "    tf.keras.layers.Dense(6, activation='softmax') # Set how many elements are there in every training output\n",
        "            \n",
        "])\n",
        "### END CODE HERE ###'\n",
        "model.summary()"
      ],
      "metadata": {
        "id": "izHspuwnBqe7",
        "colab": {
          "base_uri": "https://localhost:8080/"
        },
        "outputId": "cbfba757-11c3-48aa-8f42-e14e3ffa41e7"
      },
      "execution_count": null,
      "outputs": [
        {
          "output_type": "stream",
          "name": "stdout",
          "text": [
            "Model: \"sequential_7\"\n",
            "_________________________________________________________________\n",
            " Layer (type)                Output Shape              Param #   \n",
            "=================================================================\n",
            " dense_15 (Dense)            (None, 20)                245780    \n",
            "                                                                 \n",
            " dense_16 (Dense)            (None, 50)                1050      \n",
            "                                                                 \n",
            " dense_17 (Dense)            (None, 6)                 306       \n",
            "                                                                 \n",
            "=================================================================\n",
            "Total params: 247,136\n",
            "Trainable params: 247,136\n",
            "Non-trainable params: 0\n",
            "_________________________________________________________________\n"
          ]
        }
      ]
    },
    {
      "cell_type": "code",
      "source": [
        "### START CODE HERE ###'\n",
        "model.compile(optimizer=tf.keras.optimizers.Adam(learning_rate=0.0015),  # Optimizer. Please change 'None' to some meaningful learning rate which is usually <1\n",
        "              loss=tf.keras.losses.BinaryCrossentropy(), # loss. Please change 'None' to some meaningful loss\n",
        "              # List of metrics to monitor\n",
        "              metrics=['accuracy'],\n",
        "                 )\n",
        "### END CODE HERE ###'"
      ],
      "metadata": {
        "id": "B5pEQR4mClT2"
      },
      "execution_count": null,
      "outputs": []
    },
    {
      "cell_type": "code",
      "source": [
        "### START CODE HERE ###'\n",
        "history = model.fit(\n",
        "    X_train , #  training input data\n",
        "    Y_train , # training output data\n",
        "    batch_size=5, # how many samples (points) do you want to use to update weights once? \n",
        "    epochs=55 # how many iterations do you want to train your model? Your data will be reused to train the model for the number of epochs. I trained 5 min for this model\n",
        ")\n",
        "### END CODE HERE ###'"
      ],
      "metadata": {
        "id": "_DHEsR3TCmiv",
        "colab": {
          "base_uri": "https://localhost:8080/"
        },
        "outputId": "abd89458-03b1-4641-9b80-32752fc28dd9"
      },
      "execution_count": null,
      "outputs": [
        {
          "output_type": "stream",
          "name": "stdout",
          "text": [
            "Epoch 1/55\n",
            "216/216 [==============================] - 1s 3ms/step - loss: 0.0707 - accuracy: 0.9759\n",
            "Epoch 2/55\n",
            "216/216 [==============================] - 1s 3ms/step - loss: 0.0135 - accuracy: 0.9944\n",
            "Epoch 3/55\n",
            "216/216 [==============================] - 1s 3ms/step - loss: 0.0453 - accuracy: 0.9833\n",
            "Epoch 4/55\n",
            "216/216 [==============================] - 1s 3ms/step - loss: 0.0293 - accuracy: 0.9898\n",
            "Epoch 5/55\n",
            "216/216 [==============================] - 1s 3ms/step - loss: 0.0158 - accuracy: 0.9991\n",
            "Epoch 6/55\n",
            "216/216 [==============================] - 1s 3ms/step - loss: 0.0134 - accuracy: 0.9972\n",
            "Epoch 7/55\n",
            "216/216 [==============================] - 1s 3ms/step - loss: 0.0428 - accuracy: 0.9870\n",
            "Epoch 8/55\n",
            "216/216 [==============================] - 1s 3ms/step - loss: 0.0276 - accuracy: 0.9926\n",
            "Epoch 9/55\n",
            "216/216 [==============================] - 1s 3ms/step - loss: 0.0424 - accuracy: 0.9889\n",
            "Epoch 10/55\n",
            "216/216 [==============================] - 1s 3ms/step - loss: 0.0278 - accuracy: 0.9917\n",
            "Epoch 11/55\n",
            "216/216 [==============================] - 1s 3ms/step - loss: 0.0299 - accuracy: 0.9870\n",
            "Epoch 12/55\n",
            "216/216 [==============================] - 1s 3ms/step - loss: 0.0664 - accuracy: 0.9648\n",
            "Epoch 13/55\n",
            "216/216 [==============================] - 1s 3ms/step - loss: 0.0473 - accuracy: 0.9731\n",
            "Epoch 14/55\n",
            "216/216 [==============================] - 1s 3ms/step - loss: 0.0583 - accuracy: 0.9750\n",
            "Epoch 15/55\n",
            "216/216 [==============================] - 1s 3ms/step - loss: 0.0173 - accuracy: 0.9954\n",
            "Epoch 16/55\n",
            "216/216 [==============================] - 1s 3ms/step - loss: 0.0192 - accuracy: 0.9926\n",
            "Epoch 17/55\n",
            "216/216 [==============================] - 1s 3ms/step - loss: 0.0262 - accuracy: 0.9917\n",
            "Epoch 18/55\n",
            "216/216 [==============================] - 1s 3ms/step - loss: 0.0304 - accuracy: 0.9907\n",
            "Epoch 19/55\n",
            "216/216 [==============================] - 1s 3ms/step - loss: 0.0177 - accuracy: 0.9972\n",
            "Epoch 20/55\n",
            "216/216 [==============================] - 1s 3ms/step - loss: 0.0716 - accuracy: 0.9722\n",
            "Epoch 21/55\n",
            "216/216 [==============================] - 1s 3ms/step - loss: 0.0778 - accuracy: 0.9694\n",
            "Epoch 22/55\n",
            "216/216 [==============================] - 1s 3ms/step - loss: 0.0571 - accuracy: 0.9722\n",
            "Epoch 23/55\n",
            "216/216 [==============================] - 1s 3ms/step - loss: 0.0709 - accuracy: 0.9593\n",
            "Epoch 24/55\n",
            "216/216 [==============================] - 1s 3ms/step - loss: 0.0351 - accuracy: 0.9833\n",
            "Epoch 25/55\n",
            "216/216 [==============================] - 1s 3ms/step - loss: 0.0431 - accuracy: 0.9824\n",
            "Epoch 26/55\n",
            "216/216 [==============================] - 1s 3ms/step - loss: 0.0401 - accuracy: 0.9880\n",
            "Epoch 27/55\n",
            "216/216 [==============================] - 1s 3ms/step - loss: 0.0217 - accuracy: 0.9954\n",
            "Epoch 28/55\n",
            "216/216 [==============================] - 1s 3ms/step - loss: 0.0763 - accuracy: 0.9694\n",
            "Epoch 29/55\n",
            "216/216 [==============================] - 1s 3ms/step - loss: 0.0252 - accuracy: 0.9917\n",
            "Epoch 30/55\n",
            "216/216 [==============================] - 1s 3ms/step - loss: 0.0070 - accuracy: 1.0000\n",
            "Epoch 31/55\n",
            "216/216 [==============================] - 1s 3ms/step - loss: 0.0510 - accuracy: 0.9870\n",
            "Epoch 32/55\n",
            "216/216 [==============================] - 1s 3ms/step - loss: 0.0601 - accuracy: 0.9759\n",
            "Epoch 33/55\n",
            "216/216 [==============================] - 1s 3ms/step - loss: 0.0630 - accuracy: 0.9713\n",
            "Epoch 34/55\n",
            "216/216 [==============================] - 1s 3ms/step - loss: 0.0166 - accuracy: 0.9954\n",
            "Epoch 35/55\n",
            "216/216 [==============================] - 1s 3ms/step - loss: 0.0238 - accuracy: 0.9954\n",
            "Epoch 36/55\n",
            "216/216 [==============================] - 1s 3ms/step - loss: 0.0160 - accuracy: 0.9991\n",
            "Epoch 37/55\n",
            "216/216 [==============================] - 1s 3ms/step - loss: 0.0260 - accuracy: 0.9926\n",
            "Epoch 38/55\n",
            "216/216 [==============================] - 1s 3ms/step - loss: 0.0545 - accuracy: 0.9796\n",
            "Epoch 39/55\n",
            "216/216 [==============================] - 1s 3ms/step - loss: 0.0725 - accuracy: 0.9685\n",
            "Epoch 40/55\n",
            "216/216 [==============================] - 1s 3ms/step - loss: 0.0406 - accuracy: 0.9843\n",
            "Epoch 41/55\n",
            "216/216 [==============================] - 1s 3ms/step - loss: 0.0212 - accuracy: 0.9981\n",
            "Epoch 42/55\n",
            "216/216 [==============================] - 1s 3ms/step - loss: 0.1403 - accuracy: 0.9370\n",
            "Epoch 43/55\n",
            "216/216 [==============================] - 1s 3ms/step - loss: 0.0309 - accuracy: 0.9880\n",
            "Epoch 44/55\n",
            "216/216 [==============================] - 1s 3ms/step - loss: 0.0190 - accuracy: 0.9944\n",
            "Epoch 45/55\n",
            "216/216 [==============================] - 1s 3ms/step - loss: 0.0298 - accuracy: 0.9907\n",
            "Epoch 46/55\n",
            "216/216 [==============================] - 1s 3ms/step - loss: 0.0176 - accuracy: 0.9963\n",
            "Epoch 47/55\n",
            "216/216 [==============================] - 1s 3ms/step - loss: 0.0121 - accuracy: 0.9981\n",
            "Epoch 48/55\n",
            "216/216 [==============================] - 1s 3ms/step - loss: 0.0364 - accuracy: 0.9935\n",
            "Epoch 49/55\n",
            "216/216 [==============================] - 1s 3ms/step - loss: 0.0311 - accuracy: 0.9917\n",
            "Epoch 50/55\n",
            "216/216 [==============================] - 1s 3ms/step - loss: 0.0322 - accuracy: 0.9889\n",
            "Epoch 51/55\n",
            "216/216 [==============================] - 1s 3ms/step - loss: 0.0075 - accuracy: 1.0000\n",
            "Epoch 52/55\n",
            "216/216 [==============================] - 1s 3ms/step - loss: 0.0118 - accuracy: 0.9991\n",
            "Epoch 53/55\n",
            "216/216 [==============================] - 1s 3ms/step - loss: 0.0556 - accuracy: 0.9750\n",
            "Epoch 54/55\n",
            "216/216 [==============================] - 1s 3ms/step - loss: 0.0188 - accuracy: 0.9935\n",
            "Epoch 55/55\n",
            "216/216 [==============================] - 1s 3ms/step - loss: 0.0107 - accuracy: 1.0000\n"
          ]
        }
      ]
    },
    {
      "cell_type": "markdown",
      "source": [
        "\n",
        "**If the training works, congratulations! You have built a model for recognizing SIGN language.**"
      ],
      "metadata": {
        "id": "UzEKaMdOR1vp"
      }
    },
    {
      "cell_type": "code",
      "source": [
        "model.evaluate(X_test,Y_test)"
      ],
      "metadata": {
        "id": "46tcqf45C5aD",
        "colab": {
          "base_uri": "https://localhost:8080/"
        },
        "outputId": "c06bf5dd-8fb6-4e96-a305-23ea128c03b2"
      },
      "execution_count": null,
      "outputs": [
        {
          "output_type": "stream",
          "name": "stdout",
          "text": [
            "4/4 [==============================] - 0s 3ms/step - loss: 0.2056 - accuracy: 0.8917\n"
          ]
        },
        {
          "output_type": "execute_result",
          "data": {
            "text/plain": [
              "[0.20555496215820312, 0.8916666507720947]"
            ]
          },
          "metadata": {},
          "execution_count": 70
        }
      ]
    },
    {
      "cell_type": "markdown",
      "metadata": {
        "id": "ogOoTX2CT13E"
      },
      "source": [
        "# 5. Grading rule\n",
        "\n",
        "***Try your best to achieve high accuarcy.  The grade for this homework will based on your model final training accurracy and test accuracy. ***\n",
        "\n",
        "For example, if your final training accurracy is 87.8 (consider one decimal) and test accuracy is 70.9, the total grade is 8.78 + 7.09 =15.87. The full credit is 10+10 =20.  It is hard to get full credit in this homework, please try your best.  \n",
        "\n",
        "\n",
        "\n"
      ]
    },
    {
      "cell_type": "markdown",
      "source": [
        "**Tips**\n",
        "\n",
        "You can try to improve its accuracy by:\n",
        "1. tuning the hyperparameters (learning rate, batch size, epoches and so on)\n",
        "2. adjusting your layers numbers or nuron numbers.\n",
        "3. changing optimizer or loss function\n",
        "4. using dropout layer\n",
        "5. add regularizers.L2\n",
        "6. ....."
      ],
      "metadata": {
        "id": "VeliznoqOMm-"
      }
    },
    {
      "cell_type": "markdown",
      "source": [
        "Once again, here's a thumbs up for your work!"
      ],
      "metadata": {
        "id": "1L5moOeSM9v4"
      }
    },
    {
      "cell_type": "code",
      "execution_count": null,
      "metadata": {
        "id": "EJ8Aft1CT13F",
        "jupyter": {
          "outputs_hidden": true
        },
        "scrolled": true,
        "colab": {
          "base_uri": "https://localhost:8080/",
          "height": 286
        },
        "outputId": "5d985462-56b4-4ca4-d72d-e9107bdea46d"
      },
      "outputs": [
        {
          "output_type": "stream",
          "name": "stdout",
          "text": [
            "Populating the interactive namespace from numpy and matplotlib\n"
          ]
        },
        {
          "output_type": "display_data",
          "data": {
            "image/png": "[encoded data removed]",
            "text/plain": [
              "<Figure size 432x288 with 1 Axes>"
            ]
          },
          "metadata": {
            "needs_background": "light"
          }
        }
      ],
      "source": [
        "%pylab inline\n",
        "import matplotlib.image as mpimg\n",
        "img = mpimg.imread('images/thumbs_up.jpg')\n",
        "imgplot = plt.imshow(img)\n",
        "plt.show()"
      ]
    }
  ],
  "metadata": {
    "coursera": {
      "course_slug": "deep-neural-network",
      "graded_item_id": "BFd89",
      "launcher_item_id": "AH2rK"
    },
    "kernelspec": {
      "display_name": "Python 3",
      "language": "python",
      "name": "python3"
    },
    "language_info": {
      "codemirror_mode": {
        "name": "ipython",
        "version": 3
      },
      "file_extension": ".py",
      "mimetype": "text/x-python",
      "name": "python",
      "nbconvert_exporter": "python",
      "pygments_lexer": "ipython3",
      "version": "3.8.5"
    },
    "colab": {
      "name": "TensorFlow_SIGNs_classfication.ipynb",
      "provenance": [],
      "collapsed_sections": [],
      "include_colab_link": true
    },
    "accelerator": "GPU"
  },
  "nbformat": 4,
  "nbformat_minor": 0
}